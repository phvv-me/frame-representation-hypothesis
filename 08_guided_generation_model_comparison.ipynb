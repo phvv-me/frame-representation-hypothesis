{
 "cells": [
  {
   "cell_type": "markdown",
   "metadata": {},
   "source": [
    "## Ablation of top-k Guided Generation. Comparison among \"model\" families.\n",
    "\n",
    "We analyze how the different models are affected by Concept Guided Generation."
   ]
  },
  {
   "cell_type": "code",
   "execution_count": null,
   "metadata": {},
   "outputs": [],
   "source": [
    "import torch\n",
    "import pandas as pd\n",
    "\n",
    "from frames.nlp.datasets import load_multilingual_question_dataset\n",
    "from frames.representations import FrameUnembeddingRepresentation\n",
    "from frames.utils.memory import gc_cuda\n",
    "from frames.utils.plotting import lineplot_and_save\n",
    "from frames.utils.settings import load_models"
   ]
  },
  {
   "cell_type": "code",
   "execution_count": null,
   "metadata": {},
   "outputs": [],
   "source": [
    "N = 1 << 10\n",
    "STEPS = 1 << 4\n",
    "BATCH_SIZE = 1 << 4\n",
    "GUIDES = [(\"woman.n.01\", \"man.n.01\"), (\"black.n.01\", \"white.n.01\")]\n",
    "\n",
    "X = \"Parameter Count (1e9)\"\n",
    "Y = \"Concept Relative Projection (Guided - Unguided)\"\n",
    "HUE = \"family\"\n",
    "\n",
    "LEMMA_COUNT = 4\n",
    "TOKEN_COUNT = 3\n",
    "\n",
    "MODEL_ABLATION_K = 4"
   ]
  },
  {
   "cell_type": "code",
   "execution_count": null,
   "metadata": {},
   "outputs": [],
   "source": [
    "dataset = load_multilingual_question_dataset((\"English\",)).iloc[:N].values.flatten()\n",
    "\n",
    "print(\"Loaded English dataset with\", len(dataset), \"samples\")"
   ]
  },
  {
   "cell_type": "code",
   "execution_count": null,
   "metadata": {},
   "outputs": [],
   "source": [
    "def get_relative_concept_projection(model_kwargs, k, *args, **kwargs):\n",
    "    d = torch.bfloat16 if \"gemma-2-9b\" in model_kwargs[\"id\"] else \"auto\"\n",
    "    fur = FrameUnembeddingRepresentation.from_model_id(**model_kwargs, torch_dtype=d)\n",
    "    guided = fur.quick_generate_with_topk_guide(*args, k=k, **kwargs)[1][:, -1]\n",
    "    unguided = fur.quick_generate_with_topk_guide(*args, k=1, **kwargs)[1][:, -1]\n",
    "\n",
    "    relative_projection = guided - unguided\n",
    "    relative_projection = relative_projection.float().cpu().numpy()\n",
    "\n",
    "    param_count = fur.model.parameter_count_string.removesuffix(\"B\")\n",
    "\n",
    "    return relative_projection, param_count\n",
    "\n",
    "\n",
    "def get(model_kwargs, guide):\n",
    "    with gc_cuda():\n",
    "        return get_relative_concept_projection(\n",
    "            model_kwargs=model_kwargs,\n",
    "            sentences=dataset,\n",
    "            k=MODEL_ABLATION_K,\n",
    "            steps=STEPS,\n",
    "            batch_size=BATCH_SIZE,\n",
    "            guide=guide,\n",
    "            min_lemmas_per_synset=LEMMA_COUNT,\n",
    "            max_token_count=TOKEN_COUNT,\n",
    "        )\n",
    "    \n",
    "def apply_guide(guide):\n",
    "    df = load_models()\n",
    "    data = df.apply(get, axis=1, guide=guide)\n",
    "    df[Y] = data.apply(lambda x: x[0])\n",
    "    df[X] = data.apply(lambda x: int(x[1]))\n",
    "    return df.explode(Y).dropna()"
   ]
  },
  {
   "cell_type": "code",
   "execution_count": null,
   "metadata": {},
   "outputs": [],
   "source": [
    "df = pd.concat([apply_guide(guide).assign(guide=f\"{guide[0]} - {guide[1]}\") for guide in GUIDES])\n",
    "\n",
    "lineplot_and_save(\"08_guided_generation_model_comparison\", df, x=X, y=Y, hue=HUE)"
   ]
  }
 ],
 "metadata": {
  "kernelspec": {
   "display_name": ".venv",
   "language": "python",
   "name": "python3"
  },
  "language_info": {
   "codemirror_mode": {
    "name": "ipython",
    "version": 3
   },
   "file_extension": ".py",
   "mimetype": "text/x-python",
   "name": "python",
   "nbconvert_exporter": "python",
   "pygments_lexer": "ipython3",
   "version": "3.11.10"
  }
 },
 "nbformat": 4,
 "nbformat_minor": 2
}
