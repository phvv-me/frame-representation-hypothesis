{
 "cells": [
  {
   "cell_type": "markdown",
   "metadata": {},
   "source": [
    "# Environment Setup\n",
    "\n",
    "**Set up the environment variables in a .env file!!**"
   ]
  },
  {
   "cell_type": "markdown",
   "metadata": {},
   "source": [
    "# Model Download\n",
    "\n",
    "Imports and uses the custom utility function to load model configurations from settings. \n",
    "\n",
    "This determines which models need to be downloaded."
   ]
  },
  {
   "cell_type": "code",
   "execution_count": null,
   "metadata": {},
   "outputs": [
    {
     "name": "stdout",
     "output_type": "stream",
     "text": [
      "Running download for: meta-llama/Llama-3.1-8B-Instruct\n"
     ]
    },
    {
     "name": "stderr",
     "output_type": "stream",
     "text": [
      "Removing incomplete file '/home/pedro/.cache/huggingface/hub/models--meta-llama--Llama-3.1-8B-Instruct/blobs/ab33d910f405204e5d388bc3521503584800461dc96808e287821dd451c1edac.incomplete' (hf_transfer=True)\n",
      "Downloading 'original/consolidated.00.pth' to '/home/pedro/.cache/huggingface/hub/models--meta-llama--Llama-3.1-8B-Instruct/blobs/ab33d910f405204e5d388bc3521503584800461dc96808e287821dd451c1edac.incomplete'\n",
      "Download complete. Moving file to /home/pedro/.cache/huggingface/hub/models--meta-llama--Llama-3.1-8B-Instruct/blobs/ab33d910f405204e5d388bc3521503584800461dc96808e287821dd451c1edac\n",
      "Downloading 'original/params.json' to '/home/pedro/.cache/huggingface/hub/models--meta-llama--Llama-3.1-8B-Instruct/blobs/f1131204e79d0c09d2bac93f11569a8a655d68ba.incomplete'\n",
      "Download complete. Moving file to /home/pedro/.cache/huggingface/hub/models--meta-llama--Llama-3.1-8B-Instruct/blobs/f1131204e79d0c09d2bac93f11569a8a655d68ba\n",
      "Downloading 'original/tokenizer.model' to '/home/pedro/.cache/huggingface/hub/models--meta-llama--Llama-3.1-8B-Instruct/blobs/82e9d31979e92ab929cd544440f129d9ecd797b69e327f80f17e1c50d5551b55.incomplete'\n",
      "Download complete. Moving file to /home/pedro/.cache/huggingface/hub/models--meta-llama--Llama-3.1-8B-Instruct/blobs/82e9d31979e92ab929cd544440f129d9ecd797b69e327f80f17e1c50d5551b55\n",
      "Downloading 'special_tokens_map.json' to '/home/pedro/.cache/huggingface/hub/models--meta-llama--Llama-3.1-8B-Instruct/blobs/02ee80b6196926a5ad790a004d9efd6ab1ba6542.incomplete'\n",
      "Download complete. Moving file to /home/pedro/.cache/huggingface/hub/models--meta-llama--Llama-3.1-8B-Instruct/blobs/02ee80b6196926a5ad790a004d9efd6ab1ba6542\n",
      "Downloading 'tokenizer.json' to '/home/pedro/.cache/huggingface/hub/models--meta-llama--Llama-3.1-8B-Instruct/blobs/5cc5f00a5b203e90a27a3bd60d1ec393b07971e8.incomplete'\n",
      "Download complete. Moving file to /home/pedro/.cache/huggingface/hub/models--meta-llama--Llama-3.1-8B-Instruct/blobs/5cc5f00a5b203e90a27a3bd60d1ec393b07971e8\n",
      "Downloading 'tokenizer_config.json' to '/home/pedro/.cache/huggingface/hub/models--meta-llama--Llama-3.1-8B-Instruct/blobs/db88166e2bc4c799fd5d1ae643b75e84d03ee70e.incomplete'\n",
      "Download complete. Moving file to /home/pedro/.cache/huggingface/hub/models--meta-llama--Llama-3.1-8B-Instruct/blobs/db88166e2bc4c799fd5d1ae643b75e84d03ee70e\n"
     ]
    },
    {
     "name": "stdout",
     "output_type": "stream",
     "text": [
      "/home/pedro/.cache/huggingface/hub/models--meta-llama--Llama-3.1-8B-Instruct/snapshots/0e9e39f249a16976918f6564b8830bc894c89659\n",
      "Running download for: google/gemma-2-9b-it\n",
      "/home/pedro/.cache/huggingface/hub/models--google--gemma-2-9b-it/snapshots/11c9b309abf73637e4b6f9a3fa1e92e615547819\n",
      "Running download for: microsoft/Phi-3-medium-128k-instruct\n"
     ]
    },
    {
     "name": "stderr",
     "output_type": "stream",
     "text": [
      "Removing incomplete file '/home/pedro/.cache/huggingface/hub/models--microsoft--Phi-3-medium-128k-instruct/blobs/218be0ac917173a0160c27d8b5547fda69b77a8d38e3ead87157aadb37b98410.incomplete' (hf_transfer=True)\n",
      "Downloading 'model-00002-of-00006.safetensors' to '/home/pedro/.cache/huggingface/hub/models--microsoft--Phi-3-medium-128k-instruct/blobs/218be0ac917173a0160c27d8b5547fda69b77a8d38e3ead87157aadb37b98410.incomplete'\n"
     ]
    }
   ],
   "source": [
    "# Model Configuration Loading\n",
    "import os\n",
    "\n",
    "# Import the custom utility function to load model configurations\n",
    "from frames.utils.settings import load_models\n",
    "\n",
    "# Load the model configurations\n",
    "model_configs = load_models()\n",
    "\n",
    "# Iterate through the model IDs and print the download message for each model\n",
    "for model_id in model_configs[\"id\"]:\n",
    "    print(f\"Running download for: {model_id}\")\n",
    "    # Use the Hugging Face CLI to download the model, excluding files with the .gguf extension\n",
    "    os.system(f\"huggingface-cli download {model_id} --exclude=*.gguf,*.pth\")"
   ]
  },
  {
   "cell_type": "markdown",
   "metadata": {},
   "source": [
    "## NLTK Download\n",
    "\n",
    "Downloads all of NLTK for offline usage"
   ]
  },
  {
   "cell_type": "code",
   "execution_count": null,
   "metadata": {},
   "outputs": [],
   "source": [
    "!python -m nltk.downloader all"
   ]
  },
  {
   "cell_type": "markdown",
   "metadata": {},
   "source": [
    "## TikToken tokenizer offline issue fix"
   ]
  },
  {
   "cell_type": "code",
   "execution_count": null,
   "metadata": {},
   "outputs": [],
   "source": [
    "import hashlib\n",
    "\n",
    "import requests\n",
    "\n",
    "# Define the blob URL and blob path\n",
    "blob_url = \"https://openaipublic.blob.core.windows.net/encodings/cl100k_base.tiktoken\"\n",
    "\n",
    "# Compute the SHA-1 hash of the blob path\n",
    "hash_filename = hashlib.sha1(blob_url.encode()).hexdigest()\n",
    "\n",
    "# Define the target directory using pathlib\n",
    "target_dir = os.environ[\"TIKTOKEN_CACHE_DIR\"]\n",
    "target_dir.mkdir(parents=True, exist_ok=True)\n",
    "\n",
    "# Full path to save the file\n",
    "file_path = target_dir / hash_filename\n",
    "\n",
    "# Download the file\n",
    "response = requests.get(blob_url)\n",
    "response.raise_for_status()  # Ensure the download was successful\n",
    "\n",
    "# Save the file\n",
    "file_path.write_bytes(response.content)\n",
    "\n",
    "print(f\"File downloaded and saved to {file_path}\")"
   ]
  },
  {
   "cell_type": "code",
   "execution_count": null,
   "metadata": {},
   "outputs": [],
   "source": [
    "import tiktoken\n",
    "\n",
    "tiktoken.get_encoding(\"cl100k_base\")"
   ]
  }
 ],
 "metadata": {
  "kernelspec": {
   "display_name": ".venv",
   "language": "python",
   "name": "python3"
  },
  "language_info": {
   "codemirror_mode": {
    "name": "ipython",
    "version": 3
   },
   "file_extension": ".py",
   "mimetype": "text/x-python",
   "name": "python",
   "nbconvert_exporter": "python",
   "pygments_lexer": "ipython3",
   "version": "3.11.10"
  }
 },
 "nbformat": 4,
 "nbformat_minor": 2
}
