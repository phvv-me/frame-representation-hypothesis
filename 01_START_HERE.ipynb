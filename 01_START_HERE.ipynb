{
 "cells": [
  {
   "cell_type": "markdown",
   "metadata": {},
   "source": [
    "# Environment Setup\n",
    "\n",
    "**Set up the environment variables in a .env file!!**"
   ]
  },
  {
   "cell_type": "markdown",
   "metadata": {},
   "source": [
    "# Model Download\n",
    "\n",
    "Imports and uses the custom utility function to load model configurations from settings. \n",
    "\n",
    "This determines which models need to be downloaded."
   ]
  },
  {
   "cell_type": "code",
   "execution_count": null,
   "metadata": {},
   "outputs": [
    {
     "name": "stdout",
     "output_type": "stream",
     "text": [
      "Running download for: hugging-quants/Meta-Llama-3.1-70B-Instruct-AWQ-INT4\n"
     ]
    },
    {
     "name": "stderr",
     "output_type": "stream",
     "text": [
      "Downloading '.gitattributes' to '/root/.cache/huggingface/hub/models--hugging-quants--Meta-Llama-3.1-70B-Instruct-AWQ-INT4/blobs/a6344aac8c09253b3b630fb776ae94478aa0275b.incomplete'\n",
      "Download complete. Moving file to /root/.cache/huggingface/hub/models--hugging-quants--Meta-Llama-3.1-70B-Instruct-AWQ-INT4/blobs/a6344aac8c09253b3b630fb776ae94478aa0275b\n",
      "Downloading 'LICENSE' to '/root/.cache/huggingface/hub/models--hugging-quants--Meta-Llama-3.1-70B-Instruct-AWQ-INT4/blobs/a7c3ca16cee30425ed6ad841a809590f2bcbf290.incomplete'\n",
      "Download complete. Moving file to /root/.cache/huggingface/hub/models--hugging-quants--Meta-Llama-3.1-70B-Instruct-AWQ-INT4/blobs/a7c3ca16cee30425ed6ad841a809590f2bcbf290\n",
      "Downloading 'README.md' to '/root/.cache/huggingface/hub/models--hugging-quants--Meta-Llama-3.1-70B-Instruct-AWQ-INT4/blobs/712bd48346a78432b029ae639b320591ad472cde.incomplete'\n",
      "Download complete. Moving file to /root/.cache/huggingface/hub/models--hugging-quants--Meta-Llama-3.1-70B-Instruct-AWQ-INT4/blobs/712bd48346a78432b029ae639b320591ad472cde\n",
      "Downloading 'USE_POLICY.md' to '/root/.cache/huggingface/hub/models--hugging-quants--Meta-Llama-3.1-70B-Instruct-AWQ-INT4/blobs/81ebb55902285e8dd5804ccf423d17ffb2a622ee.incomplete'\n",
      "Download complete. Moving file to /root/.cache/huggingface/hub/models--hugging-quants--Meta-Llama-3.1-70B-Instruct-AWQ-INT4/blobs/81ebb55902285e8dd5804ccf423d17ffb2a622ee\n",
      "Downloading 'config.json' to '/root/.cache/huggingface/hub/models--hugging-quants--Meta-Llama-3.1-70B-Instruct-AWQ-INT4/blobs/43971dc513f78554ddb3b666a3d255c1d96b0b92.incomplete'\n",
      "Download complete. Moving file to /root/.cache/huggingface/hub/models--hugging-quants--Meta-Llama-3.1-70B-Instruct-AWQ-INT4/blobs/43971dc513f78554ddb3b666a3d255c1d96b0b92\n",
      "Downloading 'generation_config.json' to '/root/.cache/huggingface/hub/models--hugging-quants--Meta-Llama-3.1-70B-Instruct-AWQ-INT4/blobs/c85e356463cb94425264a907d7c3fea022326e80.incomplete'\n",
      "Download complete. Moving file to /root/.cache/huggingface/hub/models--hugging-quants--Meta-Llama-3.1-70B-Instruct-AWQ-INT4/blobs/c85e356463cb94425264a907d7c3fea022326e80\n",
      "Downloading 'model-00001-of-00009.safetensors' to '/root/.cache/huggingface/hub/models--hugging-quants--Meta-Llama-3.1-70B-Instruct-AWQ-INT4/blobs/f1e5572d6b0bb1a5bf71cce73c069cffa03dd0d1fbe38bb2b85056e50dd76476.incomplete'\n",
      "Download complete. Moving file to /root/.cache/huggingface/hub/models--hugging-quants--Meta-Llama-3.1-70B-Instruct-AWQ-INT4/blobs/f1e5572d6b0bb1a5bf71cce73c069cffa03dd0d1fbe38bb2b85056e50dd76476\n",
      "Downloading 'model-00002-of-00009.safetensors' to '/root/.cache/huggingface/hub/models--hugging-quants--Meta-Llama-3.1-70B-Instruct-AWQ-INT4/blobs/91e1bccca02d6f7799e15f8428176313a470c1763e9a28cde9444c6f9228e8d0.incomplete'\n"
     ]
    }
   ],
   "source": [
    "# Model Configuration Loading\n",
    "import os\n",
    "\n",
    "# Import the custom utility function to load model configurations\n",
    "from frames.utils.settings import load_models\n",
    "\n",
    "# Load the model configurations\n",
    "model_configs = load_models()\n",
    "\n",
    "# Iterate through the model IDs and print the download message for each model\n",
    "for model_id in model_configs[\"id\"]:\n",
    "    print(f\"Running download for: {model_id}\")\n",
    "    # Use the Hugging Face CLI to download the model, excluding files with the .gguf extension\n",
    "    os.system(f\"huggingface-cli download {model_id} --exclude=*.gguf\")"
   ]
  },
  {
   "cell_type": "markdown",
   "metadata": {},
   "source": [
    "## NLTK Download\n",
    "\n",
    "Downloads all of NLTK for offline usage"
   ]
  },
  {
   "cell_type": "code",
   "execution_count": null,
   "metadata": {},
   "outputs": [],
   "source": [
    "!python -m nltk.downloader all"
   ]
  },
  {
   "cell_type": "markdown",
   "metadata": {},
   "source": [
    "## TikToken tokenizer offline issue fix"
   ]
  },
  {
   "cell_type": "code",
   "execution_count": null,
   "metadata": {},
   "outputs": [],
   "source": [
    "import hashlib\n",
    "\n",
    "import requests\n",
    "\n",
    "# Define the blob URL and blob path\n",
    "blob_url = \"https://openaipublic.blob.core.windows.net/encodings/cl100k_base.tiktoken\"\n",
    "\n",
    "# Compute the SHA-1 hash of the blob path\n",
    "hash_filename = hashlib.sha1(blob_url.encode()).hexdigest()\n",
    "\n",
    "# Define the target directory using pathlib\n",
    "target_dir = os.environ[\"TIKTOKEN_CACHE_DIR\"]\n",
    "target_dir.mkdir(parents=True, exist_ok=True)\n",
    "\n",
    "# Full path to save the file\n",
    "file_path = target_dir / hash_filename\n",
    "\n",
    "# Download the file\n",
    "response = requests.get(blob_url)\n",
    "response.raise_for_status()  # Ensure the download was successful\n",
    "\n",
    "# Save the file\n",
    "file_path.write_bytes(response.content)\n",
    "\n",
    "print(f\"File downloaded and saved to {file_path}\")"
   ]
  },
  {
   "cell_type": "code",
   "execution_count": null,
   "metadata": {},
   "outputs": [],
   "source": [
    "import tiktoken\n",
    "\n",
    "tiktoken.get_encoding(\"cl100k_base\")"
   ]
  }
 ],
 "metadata": {
  "kernelspec": {
   "display_name": "Python 3",
   "language": "python",
   "name": "python3"
  },
  "language_info": {
   "codemirror_mode": {
    "name": "ipython",
    "version": 3
   },
   "file_extension": ".py",
   "mimetype": "text/x-python",
   "name": "python",
   "nbconvert_exporter": "python",
   "pygments_lexer": "ipython3",
   "version": "3.12.3"
  }
 },
 "nbformat": 4,
 "nbformat_minor": 2
}
