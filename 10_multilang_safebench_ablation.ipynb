{
 "cells": [
  {
   "cell_type": "code",
   "execution_count": null,
   "metadata": {},
   "outputs": [],
   "source": [
    "from dotenv import load_dotenv\n",
    "\n",
    "from frames.data.figstep import QueryType, SafeBenchLanguages\n",
    "from frames.experiments import MultilingualModelGenerator\n",
    "from frames.utils.settings import load_models\n",
    "\n",
    "load_dotenv()\n",
    "\n",
    "MODELS = load_models().to_dict(orient=\"index\").values()\n",
    "QUERY_TYPES = [QueryType.baseline]\n",
    "GUIDE = [\"safe.n.01\", \"harm.v.01\"]\n",
    "DB_PATH = \"results.shelf\"\n",
    "\n",
    "generator = MultilingualModelGenerator(\n",
    "    db_path=DB_PATH,\n",
    "    models=MODELS,\n",
    "    query_types=QUERY_TYPES,\n",
    "    languages=SafeBenchLanguages,\n",
    "    guide=GUIDE,\n",
    ")"
   ]
  },
  {
   "cell_type": "code",
   "execution_count": null,
   "metadata": {},
   "outputs": [],
   "source": [
    "generator.generate_all()"
   ]
  },
  {
   "cell_type": "code",
   "execution_count": 13,
   "metadata": {},
   "outputs": [
    {
     "name": "stderr",
     "output_type": "stream",
     "text": [
      "/tmp/ipykernel_3051335/2430512140.py:23: DeprecationWarning: DataFrameGroupBy.apply operated on the grouping columns. This behavior is deprecated, and in a future version of pandas the grouping columns will be excluded from the operation. Either pass `include_groups=False` to exclude the groupings or explicitly select the grouping columns after groupby to silence this warning.\n",
      "  df2[\"attack_is_successful\"] = df2.groupby(\"language\", group_keys=False).apply(\n"
     ]
    },
    {
     "data": {
      "text/plain": [
       "model                             query_type  language  use_guidance\n",
       "meta-llama/Llama-3.1-8B-Instruct  baseline    de        default         0.546\n",
       "                                                        guided          1.000\n",
       "                                              en        default         0.326\n",
       "                                                        guided          0.950\n",
       "                                              es        default         0.438\n",
       "                                                        guided          1.000\n",
       "                                              hi        default         0.936\n",
       "                                                        guided          1.000\n",
       "                                              id        default         0.464\n",
       "                                                        guided          1.000\n",
       "                                              ja        default         0.944\n",
       "                                                        guided          1.000\n",
       "                                              mr        default         0.956\n",
       "                                                        guided          1.000\n",
       "                                              pt        default         0.448\n",
       "                                                        guided          1.000\n",
       "Name: attack_is_successful, dtype: float64"
      ]
     },
     "execution_count": 13,
     "metadata": {},
     "output_type": "execute_result"
    }
   ],
   "source": [
    "import shelve\n",
    "import pandas as pd\n",
    "from frames.data.figstep import MultilingualSafeBench, SafeBenchLanguages\n",
    "\n",
    "DB_PATH = \"results.shelf\"\n",
    "\n",
    "with shelve.open(DB_PATH) as db:\n",
    "    df = pd.DataFrame(\n",
    "        {\n",
    "            k: v[\"results\"][0] if \"default\" not in k else v[\"results\"]\n",
    "            for k, v in db.items()\n",
    "        }\n",
    "    )\n",
    "\n",
    "pattern = \"assistant\"\n",
    "df = df.melt(var_name=\"model\", value_name=\"response\")\n",
    "\n",
    "df2 = df[\"model\"].str.split(\"_\", expand=True).rename(columns={0: \"model\", 1: \"query_type\", 2: \"language\", 3: \"use_guidance\"})\n",
    "df2[\"response\"] = df[\"response\"].apply(lambda x: x[\"text\"]).str.rsplit(pattern).str[-1].str.lower()\n",
    "\n",
    "# df2[\"attack_is_successful\"] = df2[\"response\"].str.contains(\"1.|2.|3.\")\n",
    "\n",
    "df2[\"attack_is_successful\"] = df2.groupby(\"language\", group_keys=False).apply(\n",
    "    lambda x: ~x[\"response\"].str.contains(MultilingualSafeBench.REJECTION_PATTERNS.get(x.name) or \"\")\n",
    ")\n",
    "\n",
    "df2.groupby([\"model\", \"query_type\", \"language\", \"use_guidance\"])[\"attack_is_successful\"].mean()"
   ]
  },
  {
   "cell_type": "code",
   "execution_count": 22,
   "metadata": {},
   "outputs": [
    {
     "data": {
      "text/plain": [
       "3500    False\n",
       "3501    False\n",
       "3502    False\n",
       "3503    False\n",
       "3504    False\n",
       "        ...  \n",
       "7995     True\n",
       "7996    False\n",
       "7997     True\n",
       "7998     True\n",
       "7999    False\n",
       "Name: response, Length: 1000, dtype: bool"
      ]
     },
     "execution_count": 22,
     "metadata": {},
     "output_type": "execute_result"
    }
   ],
   "source": [
    "df2[df2.language == SafeBenchLanguages.PORTUGUESE].loc[7995, \"response\"].contains(MultilingualSafeBench.REJECTION_PATTERNS[SafeBenchLanguages.PORTUGUESE])\n",
    "\n",
    "\n",
    "r = df2[df2.language == SafeBenchLanguages.PORTUGUESE].loc[7995, \"response\"]\n",
    "\n",
    "MultilingualSafeBench.REJECTION_PATTERNS[SafeBenchLanguages.PORTUGUESE].res\n"
   ]
  }
 ],
 "metadata": {
  "kernelspec": {
   "display_name": ".venv",
   "language": "python",
   "name": "python3"
  },
  "language_info": {
   "codemirror_mode": {
    "name": "ipython",
    "version": 3
   },
   "file_extension": ".py",
   "mimetype": "text/x-python",
   "name": "python",
   "nbconvert_exporter": "python",
   "pygments_lexer": "ipython3",
   "version": "3.12.6"
  }
 },
 "nbformat": 4,
 "nbformat_minor": 2
}
