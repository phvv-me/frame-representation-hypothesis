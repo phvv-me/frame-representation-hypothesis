{
 "cells": [
  {
   "cell_type": "code",
   "execution_count": 1,
   "metadata": {},
   "outputs": [],
   "source": [
    "from dotenv import load_dotenv\n",
    "\n",
    "from frames.data.figstep import QueryType, SafeBenchLanguages\n",
    "from frames.experiments import MultilingualModelGenerator\n",
    "from frames.utils.settings import load_models\n",
    "\n",
    "load_dotenv()\n",
    "\n",
    "MODELS = load_models().to_dict(orient=\"index\").values()\n",
    "QUERY_TYPES = [QueryType.baseline]\n",
    "GUIDE = [\"safe.n.01\", \"harm.v.01\"]\n",
    "DB_PATH = \"results.shelf\"\n",
    "\n",
    "generator = MultilingualModelGenerator(\n",
    "    db_path=DB_PATH,\n",
    "    models=MODELS,\n",
    "    query_types=QUERY_TYPES,\n",
    "    languages=SafeBenchLanguages,\n",
    "    guide=GUIDE,\n",
    ")"
   ]
  },
  {
   "cell_type": "code",
   "execution_count": null,
   "metadata": {},
   "outputs": [
    {
     "data": {
      "application/vnd.jupyter.widget-view+json": {
       "model_id": "cbd5b1cf91194d14ae35ac14572fd5aa",
       "version_major": 2,
       "version_minor": 0
      },
      "text/plain": [
       "Loading checkpoint shards:   0%|          | 0/4 [00:00<?, ?it/s]"
      ]
     },
     "metadata": {},
     "output_type": "display_data"
    },
    {
     "name": "stderr",
     "output_type": "stream",
     "text": [
      "\u001b[32m2025-02-05 16:11:31.031\u001b[0m | \u001b[1mINFO    \u001b[0m | \u001b[36mframes.models.hf.base\u001b[0m:\u001b[36m__init__\u001b[0m:\u001b[36m88\u001b[0m - \u001b[1mLoaded model: meta-llama/Llama-3.1-8B-Instruct\u001b[0m\n",
      "\u001b[32m2025-02-05 16:11:31.032\u001b[0m | \u001b[33m\u001b[1mWARNING \u001b[0m | \u001b[36mframes.models.hf.base\u001b[0m:\u001b[36m__init__\u001b[0m:\u001b[36m89\u001b[0m - \u001b[33m\u001b[1mmemory cost: 15316 Mb\u001b[0m\n",
      "Loading en Dataset: 100%|██████████| 500/500 [00:00<00:00, 78816.60it/s]\n",
      " 19%|█▉        | 3/16 [02:58<12:50, 59.26s/it]"
     ]
    }
   ],
   "source": [
    "generator.generate_all()"
   ]
  },
  {
   "cell_type": "code",
   "execution_count": null,
   "metadata": {},
   "outputs": [],
   "source": []
  }
 ],
 "metadata": {
  "kernelspec": {
   "display_name": ".venv",
   "language": "python",
   "name": "python3"
  },
  "language_info": {
   "codemirror_mode": {
    "name": "ipython",
    "version": 3
   },
   "file_extension": ".py",
   "mimetype": "text/x-python",
   "name": "python",
   "nbconvert_exporter": "python",
   "pygments_lexer": "ipython3",
   "version": "3.11.10"
  }
 },
 "nbformat": 4,
 "nbformat_minor": 2
}
